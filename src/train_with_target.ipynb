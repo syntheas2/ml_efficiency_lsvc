{
 "cells": [
  {
   "cell_type": "code",
   "execution_count": 1,
   "metadata": {},
   "outputs": [],
   "source": [
    "import config as m_config\n",
    "from model import get_model\n",
    "from sklearn.preprocessing import MinMaxScaler\n",
    "import pandas as pd\n",
    "from pathlib import Path\n",
    "from sklearn.model_selection import train_test_split\n",
    "from sklearn.feature_extraction.text import TfidfVectorizer\n",
    "import numpy as np\n",
    "from scipy.sparse import hstack\n",
    "import sklearn\n",
    "import sys\n",
    "from utils import TensorLogger\n",
    "import joblib\n",
    "\n",
    "sys.path.append('.')"
   ]
  },
  {
   "cell_type": "code",
   "execution_count": 2,
   "metadata": {},
   "outputs": [],
   "source": [
    "version = 1\n",
    "version_descr = \"\"\"\n",
    "txt combined\n",
    "\"\"\"\n",
    "config = m_config.get_default_config(version)"
   ]
  },
  {
   "cell_type": "code",
   "execution_count": 3,
   "metadata": {},
   "outputs": [],
   "source": [
    "scaler = MinMaxScaler()\n",
    "\n",
    "data_path = str(Path('.') / config.data_folder / config.train_data_file)\n",
    "dtypes = {'change_auswirkung': str}\n",
    "df = pd.read_csv(data_path, dtype=dtypes)"
   ]
  },
  {
   "cell_type": "code",
   "execution_count": 5,
   "metadata": {},
   "outputs": [
    {
     "name": "stdout",
     "output_type": "stream",
     "text": [
      "<class 'pandas.core.frame.DataFrame'>\n",
      "RangeIndex: 222426 entries, 0 to 222425\n",
      "Data columns (total 16 columns):\n",
      " #   Column                     Non-Null Count   Dtype  \n",
      "---  ------                     --------------   -----  \n",
      " 0   change_nr                  222426 non-null  object \n",
      " 1   dauer_arbtlog              222426 non-null  float64\n",
      " 2   vorlauf_htransf            222426 non-null  float64\n",
      " 3   mgrsite_bw_bund            222426 non-null  bool   \n",
      " 4   mgrsite_bwi_it             222426 non-null  bool   \n",
      " 5   eigenbetrieb               222426 non-null  bool   \n",
      " 6   arb_pl_aufgabe_wfaktionen  171567 non-null  object \n",
      " 7   arb_pl_change_auftrag      222426 non-null  bool   \n",
      " 8   arb_pl_typ_wartung         222426 non-null  bool   \n",
      " 9   arb_pl_verwendet           222426 non-null  bool   \n",
      " 10  ci_prioritaet              222426 non-null  float64\n",
      " 11  ci_in_betrieb              222426 non-null  bool   \n",
      " 12  ci_klass_loc               222275 non-null  object \n",
      " 13  kurztext_svc_klass         222426 non-null  object \n",
      " 14  change_auswirkung          222426 non-null  object \n",
      " 15  details_preproc3           221913 non-null  object \n",
      "dtypes: bool(7), float64(3), object(6)\n",
      "memory usage: 16.8+ MB\n"
     ]
    }
   ],
   "source": [
    "df.info()"
   ]
  },
  {
   "cell_type": "code",
   "execution_count": 6,
   "metadata": {},
   "outputs": [],
   "source": [
    "df['change_ausw_num'] = df['change_auswirkung']"
   ]
  },
  {
   "cell_type": "code",
   "execution_count": 7,
   "metadata": {},
   "outputs": [],
   "source": [
    "df.loc[df['change_ausw_num'] == \"1|2\", 'change_ausw_num'] = 2\n",
    "df['change_ausw_num'] = pd.to_numeric(df['change_ausw_num'], errors='coerce')\n",
    "df['change_ausw_num'] = scaler.fit_transform(df[['change_ausw_num']])"
   ]
  },
  {
   "cell_type": "code",
   "execution_count": 8,
   "metadata": {},
   "outputs": [
    {
     "data": {
      "text/plain": [
       "change_ausw_num\n",
       "0.666667    144780\n",
       "0.333333     42272\n",
       "0.000000     28849\n",
       "1.000000      6525\n",
       "Name: count, dtype: int64"
      ]
     },
     "execution_count": 8,
     "metadata": {},
     "output_type": "execute_result"
    }
   ],
   "source": [
    "df.change_ausw_num.value_counts()#.plot(kind=\"bar\")"
   ]
  },
  {
   "cell_type": "code",
   "execution_count": 9,
   "metadata": {},
   "outputs": [],
   "source": [
    "model = get_model()"
   ]
  },
  {
   "cell_type": "code",
   "execution_count": 10,
   "metadata": {},
   "outputs": [],
   "source": [
    "df['details_preproc3'].fillna('', inplace=True)"
   ]
  },
  {
   "cell_type": "code",
   "execution_count": 11,
   "metadata": {},
   "outputs": [],
   "source": [
    "combined_text_cols = ['kurztext_svc_klass', 'details_preproc3', 'ci_klass_loc', 'arb_pl_aufgabe_wfaktionen']\n",
    "df['combined_text'] = df[combined_text_cols].apply(lambda row: ' '.join(val for val in row if pd.notnull(val)), axis=1)"
   ]
  },
  {
   "cell_type": "code",
   "execution_count": 12,
   "metadata": {},
   "outputs": [
    {
     "data": {
      "text/html": [
       "<div>\n",
       "<style scoped>\n",
       "    .dataframe tbody tr th:only-of-type {\n",
       "        vertical-align: middle;\n",
       "    }\n",
       "\n",
       "    .dataframe tbody tr th {\n",
       "        vertical-align: top;\n",
       "    }\n",
       "\n",
       "    .dataframe thead th {\n",
       "        text-align: right;\n",
       "    }\n",
       "</style>\n",
       "<table border=\"1\" class=\"dataframe\">\n",
       "  <thead>\n",
       "    <tr style=\"text-align: right;\">\n",
       "      <th></th>\n",
       "      <th>21033</th>\n",
       "    </tr>\n",
       "  </thead>\n",
       "  <tbody>\n",
       "    <tr>\n",
       "      <th>kurztext_svc_klass</th>\n",
       "      <td>wan plus tgw vorabinstallation hardwareabruf r...</td>\n",
       "    </tr>\n",
       "    <tr>\n",
       "      <th>details_preproc3</th>\n",
       "      <td>techniker nokia abgestimmt termin anmelden</td>\n",
       "    </tr>\n",
       "    <tr>\n",
       "      <th>ci_klass_loc</th>\n",
       "      <td>router</td>\n",
       "    </tr>\n",
       "    <tr>\n",
       "      <th>arb_pl_aufgabe_wfaktionen</th>\n",
       "      <td>umsetzungsaufgaben</td>\n",
       "    </tr>\n",
       "  </tbody>\n",
       "</table>\n",
       "</div>"
      ],
      "text/plain": [
       "                                                                       21033\n",
       "kurztext_svc_klass         wan plus tgw vorabinstallation hardwareabruf r...\n",
       "details_preproc3                  techniker nokia abgestimmt termin anmelden\n",
       "ci_klass_loc                                                          router\n",
       "arb_pl_aufgabe_wfaktionen                                 umsetzungsaufgaben"
      ]
     },
     "execution_count": 12,
     "metadata": {},
     "output_type": "execute_result"
    }
   ],
   "source": [
    "df[combined_text_cols].sample().transpose()"
   ]
  },
  {
   "cell_type": "code",
   "execution_count": 13,
   "metadata": {},
   "outputs": [],
   "source": [
    "df_train, df_val = train_test_split(df, test_size=0.2, random_state=42, stratify=df['change_auswirkung'])"
   ]
  },
  {
   "cell_type": "code",
   "execution_count": 14,
   "metadata": {},
   "outputs": [
    {
     "name": "stdout",
     "output_type": "stream",
     "text": [
      "<class 'pandas.core.frame.DataFrame'>\n",
      "Index: 44486 entries, 77612 to 29544\n",
      "Data columns (total 18 columns):\n",
      " #   Column                     Non-Null Count  Dtype  \n",
      "---  ------                     --------------  -----  \n",
      " 0   change_nr                  44486 non-null  object \n",
      " 1   dauer_arbtlog              44486 non-null  float64\n",
      " 2   vorlauf_htransf            44486 non-null  float64\n",
      " 3   mgrsite_bw_bund            44486 non-null  bool   \n",
      " 4   mgrsite_bwi_it             44486 non-null  bool   \n",
      " 5   eigenbetrieb               44486 non-null  bool   \n",
      " 6   arb_pl_aufgabe_wfaktionen  34371 non-null  object \n",
      " 7   arb_pl_change_auftrag      44486 non-null  bool   \n",
      " 8   arb_pl_typ_wartung         44486 non-null  bool   \n",
      " 9   arb_pl_verwendet           44486 non-null  bool   \n",
      " 10  ci_prioritaet              44486 non-null  float64\n",
      " 11  ci_in_betrieb              44486 non-null  bool   \n",
      " 12  ci_klass_loc               44454 non-null  object \n",
      " 13  kurztext_svc_klass         44486 non-null  object \n",
      " 14  change_auswirkung          44486 non-null  object \n",
      " 15  details_preproc3           44486 non-null  object \n",
      " 16  change_ausw_num            44486 non-null  float64\n",
      " 17  combined_text              44486 non-null  object \n",
      "dtypes: bool(7), float64(4), object(7)\n",
      "memory usage: 4.4+ MB\n"
     ]
    }
   ],
   "source": [
    "df_val.info()"
   ]
  },
  {
   "cell_type": "code",
   "execution_count": 15,
   "metadata": {},
   "outputs": [],
   "source": [
    "df_train_numeric = df_train.select_dtypes(include=['number', 'bool'])#.drop(columns= 'change_auswirkung')\n",
    "df_val_numeric = df_val.select_dtypes(include=['number', 'bool'])#.drop(columns= 'change_auswirkung')"
   ]
  },
  {
   "cell_type": "code",
   "execution_count": 16,
   "metadata": {},
   "outputs": [],
   "source": [
    "etc_feature_names = df_train_numeric.columns.to_list()"
   ]
  },
  {
   "cell_type": "code",
   "execution_count": 17,
   "metadata": {},
   "outputs": [
    {
     "name": "stderr",
     "output_type": "stream",
     "text": [
      "c:\\Users\\bs000ws5u\\AppData\\Local\\Programs\\Python\\ml_env\\lib\\site-packages\\sklearn\\feature_extraction\\text.py:525: UserWarning: The parameter 'token_pattern' will not be used since 'tokenizer' is not None'\n",
      "  warnings.warn(\n"
     ]
    }
   ],
   "source": [
    "def tokenizer(txt):\n",
    "    return txt.split()\n",
    "\n",
    "vectorizer_details = TfidfVectorizer(ngram_range=(1, 3), tokenizer=tokenizer)\n",
    "vectorizer_details.fit(df_train['combined_text'])\n",
    "X_train_vec = vectorizer_details.transform(df_train['combined_text'])\n",
    "\n",
    "X_eval_vec = vectorizer_details.transform(df_val['combined_text'])"
   ]
  },
  {
   "cell_type": "code",
   "execution_count": 18,
   "metadata": {},
   "outputs": [],
   "source": [
    "X_train_vec2 = np.array(df_train_numeric).astype(float)\n",
    "X_eval_vec2 = np.array(df_val_numeric).astype(float)"
   ]
  },
  {
   "cell_type": "code",
   "execution_count": 19,
   "metadata": {},
   "outputs": [],
   "source": [
    "# Concatenate the sparse vectors horizontally\n",
    "X_train_combined = hstack([X_train_vec, X_train_vec2])\n",
    "X_eval_combined = hstack([X_eval_vec, X_eval_vec2])\n"
   ]
  },
  {
   "cell_type": "code",
   "execution_count": 20,
   "metadata": {},
   "outputs": [
    {
     "data": {
      "text/plain": [
       "(177940, 3263380)"
      ]
     },
     "execution_count": 20,
     "metadata": {},
     "output_type": "execute_result"
    }
   ],
   "source": [
    "X_train_combined.shape"
   ]
  },
  {
   "cell_type": "code",
   "execution_count": 21,
   "metadata": {},
   "outputs": [],
   "source": [
    "y_train = df_train['change_auswirkung']\n",
    "y_eval = df_val['change_auswirkung']"
   ]
  },
  {
   "cell_type": "code",
   "execution_count": 22,
   "metadata": {},
   "outputs": [
    {
     "data": {
      "text/plain": [
       "change_auswirkung\n",
       "4      28956\n",
       "3       8455\n",
       "1|2     5770\n",
       "5       1305\n",
       "Name: count, dtype: int64"
      ]
     },
     "execution_count": 22,
     "metadata": {},
     "output_type": "execute_result"
    }
   ],
   "source": [
    "y_eval.value_counts()"
   ]
  },
  {
   "cell_type": "code",
   "execution_count": 23,
   "metadata": {},
   "outputs": [
    {
     "name": "stderr",
     "output_type": "stream",
     "text": [
      "c:\\Users\\bs000ws5u\\AppData\\Local\\Programs\\Python\\ml_env\\lib\\site-packages\\sklearn\\svm\\_classes.py:32: FutureWarning: The default value of `dual` will change from `True` to `'auto'` in 1.5. Set the value of `dual` explicitly to suppress the warning.\n",
      "  warnings.warn(\n"
     ]
    },
    {
     "data": {
      "text/html": [
       "<style>#sk-container-id-1 {color: black;}#sk-container-id-1 pre{padding: 0;}#sk-container-id-1 div.sk-toggleable {background-color: white;}#sk-container-id-1 label.sk-toggleable__label {cursor: pointer;display: block;width: 100%;margin-bottom: 0;padding: 0.3em;box-sizing: border-box;text-align: center;}#sk-container-id-1 label.sk-toggleable__label-arrow:before {content: \"▸\";float: left;margin-right: 0.25em;color: #696969;}#sk-container-id-1 label.sk-toggleable__label-arrow:hover:before {color: black;}#sk-container-id-1 div.sk-estimator:hover label.sk-toggleable__label-arrow:before {color: black;}#sk-container-id-1 div.sk-toggleable__content {max-height: 0;max-width: 0;overflow: hidden;text-align: left;background-color: #f0f8ff;}#sk-container-id-1 div.sk-toggleable__content pre {margin: 0.2em;color: black;border-radius: 0.25em;background-color: #f0f8ff;}#sk-container-id-1 input.sk-toggleable__control:checked~div.sk-toggleable__content {max-height: 200px;max-width: 100%;overflow: auto;}#sk-container-id-1 input.sk-toggleable__control:checked~label.sk-toggleable__label-arrow:before {content: \"▾\";}#sk-container-id-1 div.sk-estimator input.sk-toggleable__control:checked~label.sk-toggleable__label {background-color: #d4ebff;}#sk-container-id-1 div.sk-label input.sk-toggleable__control:checked~label.sk-toggleable__label {background-color: #d4ebff;}#sk-container-id-1 input.sk-hidden--visually {border: 0;clip: rect(1px 1px 1px 1px);clip: rect(1px, 1px, 1px, 1px);height: 1px;margin: -1px;overflow: hidden;padding: 0;position: absolute;width: 1px;}#sk-container-id-1 div.sk-estimator {font-family: monospace;background-color: #f0f8ff;border: 1px dotted black;border-radius: 0.25em;box-sizing: border-box;margin-bottom: 0.5em;}#sk-container-id-1 div.sk-estimator:hover {background-color: #d4ebff;}#sk-container-id-1 div.sk-parallel-item::after {content: \"\";width: 100%;border-bottom: 1px solid gray;flex-grow: 1;}#sk-container-id-1 div.sk-label:hover label.sk-toggleable__label {background-color: #d4ebff;}#sk-container-id-1 div.sk-serial::before {content: \"\";position: absolute;border-left: 1px solid gray;box-sizing: border-box;top: 0;bottom: 0;left: 50%;z-index: 0;}#sk-container-id-1 div.sk-serial {display: flex;flex-direction: column;align-items: center;background-color: white;padding-right: 0.2em;padding-left: 0.2em;position: relative;}#sk-container-id-1 div.sk-item {position: relative;z-index: 1;}#sk-container-id-1 div.sk-parallel {display: flex;align-items: stretch;justify-content: center;background-color: white;position: relative;}#sk-container-id-1 div.sk-item::before, #sk-container-id-1 div.sk-parallel-item::before {content: \"\";position: absolute;border-left: 1px solid gray;box-sizing: border-box;top: 0;bottom: 0;left: 50%;z-index: -1;}#sk-container-id-1 div.sk-parallel-item {display: flex;flex-direction: column;z-index: 1;position: relative;background-color: white;}#sk-container-id-1 div.sk-parallel-item:first-child::after {align-self: flex-end;width: 50%;}#sk-container-id-1 div.sk-parallel-item:last-child::after {align-self: flex-start;width: 50%;}#sk-container-id-1 div.sk-parallel-item:only-child::after {width: 0;}#sk-container-id-1 div.sk-dashed-wrapped {border: 1px dashed gray;margin: 0 0.4em 0.5em 0.4em;box-sizing: border-box;padding-bottom: 0.4em;background-color: white;}#sk-container-id-1 div.sk-label label {font-family: monospace;font-weight: bold;display: inline-block;line-height: 1.2em;}#sk-container-id-1 div.sk-label-container {text-align: center;}#sk-container-id-1 div.sk-container {/* jupyter's `normalize.less` sets `[hidden] { display: none; }` but bootstrap.min.css set `[hidden] { display: none !important; }` so we also need the `!important` here to be able to override the default hidden behavior on the sphinx rendered scikit-learn.org. See: https://github.com/scikit-learn/scikit-learn/issues/21755 */display: inline-block !important;position: relative;}#sk-container-id-1 div.sk-text-repr-fallback {display: none;}</style><div id=\"sk-container-id-1\" class=\"sk-top-container\"><div class=\"sk-text-repr-fallback\"><pre>LinearSVC(random_state=1)</pre><b>In a Jupyter environment, please rerun this cell to show the HTML representation or trust the notebook. <br />On GitHub, the HTML representation is unable to render, please try loading this page with nbviewer.org.</b></div><div class=\"sk-container\" hidden><div class=\"sk-item\"><div class=\"sk-estimator sk-toggleable\"><input class=\"sk-toggleable__control sk-hidden--visually\" id=\"sk-estimator-id-1\" type=\"checkbox\" checked><label for=\"sk-estimator-id-1\" class=\"sk-toggleable__label sk-toggleable__label-arrow\">LinearSVC</label><div class=\"sk-toggleable__content\"><pre>LinearSVC(random_state=1)</pre></div></div></div></div></div>"
      ],
      "text/plain": [
       "LinearSVC(random_state=1)"
      ]
     },
     "execution_count": 23,
     "metadata": {},
     "output_type": "execute_result"
    }
   ],
   "source": [
    "model.fit(X_train_combined, y_train)"
   ]
  },
  {
   "cell_type": "code",
   "execution_count": 24,
   "metadata": {},
   "outputs": [],
   "source": [
    "prediction = model.predict(X_eval_combined)"
   ]
  },
  {
   "cell_type": "code",
   "execution_count": 25,
   "metadata": {},
   "outputs": [],
   "source": [
    "report = sklearn.metrics.classification_report(y_eval, prediction, output_dict=True)"
   ]
  },
  {
   "cell_type": "code",
   "execution_count": 26,
   "metadata": {},
   "outputs": [
    {
     "name": "stdout",
     "output_type": "stream",
     "text": [
      "0.9754979094546599\n"
     ]
    }
   ],
   "source": [
    "print(report['accuracy'])"
   ]
  },
  {
   "cell_type": "markdown",
   "metadata": {},
   "source": [
    "'accuracy': 0.9139954142876411 (ohne vorlauf)  \n",
    "'accuracy': 0.9141977251270063 (+ vorlauf_hlog)  \n",
    "'accuracy': 0.9141078091983995 (+ vorlauf_htransf)  \n",
    "'accuracy': 0.9754979094546599 (+ change_ausw unscaled)"
   ]
  },
  {
   "cell_type": "markdown",
   "metadata": {},
   "source": []
  },
  {
   "cell_type": "code",
   "execution_count": 27,
   "metadata": {},
   "outputs": [
    {
     "name": "stdout",
     "output_type": "stream",
     "text": [
      "Confusion Matrix:\n",
      "Predicted   1|2     3      4     5\n",
      "Actual                            \n",
      "1|2        5652   118      0     0\n",
      "3            21  8007    427     0\n",
      "4             0   164  28734    58\n",
      "5             0     0    302  1003\n"
     ]
    }
   ],
   "source": [
    "# Create a DataFrame from the confusion matrix using crosstab\n",
    "confusion_matrix = pd.crosstab(np.array(y_eval), np.array(prediction),\n",
    "                               rownames=['Actual'], colnames=['Predicted'])\n",
    "\n",
    "# Print the confusion matrix\n",
    "print(\"Confusion Matrix:\")\n",
    "print(confusion_matrix)"
   ]
  },
  {
   "cell_type": "code",
   "execution_count": 28,
   "metadata": {},
   "outputs": [],
   "source": [
    "tensor_logger = TensorLogger(logdir=config.tensor_log_dir)\n",
    "tensor_logger.log_report(report=report, step=version)\n",
    "tensor_logger.log_text(version_descr, version)"
   ]
  },
  {
   "cell_type": "code",
   "execution_count": 29,
   "metadata": {},
   "outputs": [
    {
     "data": {
      "text/plain": [
       "['..\\\\output/feature_names_v-1_acc-0.975.joblib.gz']"
      ]
     },
     "execution_count": 29,
     "metadata": {},
     "output_type": "execute_result"
    }
   ],
   "source": [
    "text_keywords = vectorizer_details.get_feature_names_out().tolist()\n",
    "feature_names_dict = {'etc': etc_feature_names, 'text_comb': text_keywords}\n",
    "joblib.dump(feature_names_dict, config.feature_names_path(report['accuracy']), compress=('gzip', 3))"
   ]
  },
  {
   "cell_type": "code",
   "execution_count": 30,
   "metadata": {},
   "outputs": [
    {
     "data": {
      "text/plain": [
       "['..\\\\output/vectorizer_v-1_acc-0.975.joblib']"
      ]
     },
     "execution_count": 30,
     "metadata": {},
     "output_type": "execute_result"
    }
   ],
   "source": [
    "# Save the model to a file\n",
    "joblib.dump(model, config.model_path(report['accuracy']))\n",
    "joblib.dump(vectorizer_details, config.vectorizer_path(report['accuracy']))"
   ]
  },
  {
   "cell_type": "code",
   "execution_count": 31,
   "metadata": {},
   "outputs": [],
   "source": [
    "df_val.drop(columns=combined_text_cols).to_csv(\"data_output/val_data.csv\", index=False)"
   ]
  }
 ],
 "metadata": {
  "kernelspec": {
   "display_name": "ml_env",
   "language": "python",
   "name": "python3"
  },
  "language_info": {
   "codemirror_mode": {
    "name": "ipython",
    "version": 3
   },
   "file_extension": ".py",
   "mimetype": "text/x-python",
   "name": "python",
   "nbconvert_exporter": "python",
   "pygments_lexer": "ipython3",
   "version": "3.8.6"
  }
 },
 "nbformat": 4,
 "nbformat_minor": 2
}
